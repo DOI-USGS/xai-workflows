{
 "cells": [
  {
   "cell_type": "code",
   "execution_count": 1,
   "id": "3bf570dd-1437-4cc8-b711-cfb0875c6653",
   "metadata": {},
   "outputs": [
    {
     "data": {
      "text/plain": [
       "<torch._C.Generator at 0x2aab3369bdd0>"
      ]
     },
     "execution_count": 1,
     "metadata": {},
     "output_type": "execute_result"
    }
   ],
   "source": [
    "import tensorflow as tf\n",
    "from tensorflow.keras import layers\n",
    "\n",
    "import numpy as np\n",
    "import torch\n",
    "import torch.nn as nn\n",
    "import matplotlib.pyplot as plt\n",
    "import sys; sys.path.insert(0, '..')\n",
    "\n",
    "plt.style.use('dark_background')\n",
    "np.random.seed(123)\n",
    "torch.manual_seed(123)"
   ]
  },
  {
   "cell_type": "code",
   "execution_count": 67,
   "id": "3cf4df42-6ca6-4f32-b041-198d758ed192",
   "metadata": {},
   "outputs": [],
   "source": [
    "class LSTMModel(tf.keras.Model):\n",
    "    def __init__(\n",
    "        self, hidden_size, num_tasks, recurrent_dropout=0, dropout=0,\n",
    "    ):\n",
    "        \"\"\"\n",
    "        :param hidden_size: [int] the number of hidden units\n",
    "        :param num_tasks: [int] number of outputs to predict \n",
    "        :param recurrent_dropout: [float] value between 0 and 1 for the\n",
    "        probability of a recurrent element to be zero\n",
    "        :param dropout: [float] value between 0 and 1 for the probability of an\n",
    "        input element to be zero\n",
    "        \"\"\"\n",
    "        super().__init__()\n",
    "        self.rnn_layer = layers.LSTM(\n",
    "            hidden_size,\n",
    "            return_sequences=True,\n",
    "            recurrent_dropout=recurrent_dropout,\n",
    "            dropout=dropout,\n",
    "        )\n",
    "        self.dense = layers.Dense(num_tasks)\n",
    "\n",
    "    @tf.function\n",
    "    def call(self, inputs):\n",
    "        h = self.rnn_layer(inputs)\n",
    "        prediction = self.dense(h)\n",
    "        return prediction\n",
    "    \n",
    "    \n",
    "def expected_gradients_tf(x, x_set, model, n_samples, temporal_focus=None,task_focus=1):\n",
    "\n",
    "    n_series = x_set.shape[0]\n",
    "    num_vars = x_set.shape[2]\n",
    "    seq_len = x_set.shape[1]\n",
    "    \n",
    "    for k in range(n_samples):\n",
    "        # SAMPLE A SERIES FROM OUR DATA\n",
    "        rand_seq = np.random.choice(n_series) # rand_time may be more accurate\n",
    "        baseline_x = x_set[rand_seq]\n",
    "\n",
    "        # SAMPLE A RANDOM SCALE ALONG THE DIFFERENCE\n",
    "        scale = np.random.uniform()\n",
    "\n",
    "        # SAME IG CALCULATION\n",
    "        x_diff = x - baseline_x\n",
    "        #print(x_diff)\n",
    "        curr_x = baseline_x + scale*x_diff\n",
    "        curr_x = tf.convert_to_tensor(curr_x)\n",
    "        with tf.GradientTape() as gtape:\n",
    "            gtape.watch(curr_x)\n",
    "            if temporal_focus == None:\n",
    "                y = model(curr_x)[:,:,task_focus]\n",
    "            else:\n",
    "                y=model(curr_x)[:,temporal_focus,task_focus]\n",
    "\n",
    "        gradients = gtape.gradient(y, curr_x, tf.ones_like(y))\n",
    "        #print(gradients)\n",
    "        if k == 0:\n",
    "            expected_gradients = x_diff*gradients * 1/n_samples\n",
    "        else:\n",
    "            expected_gradients = expected_gradients + ((x_diff*gradients) * 1/n_samples)\n",
    "        return(expected_gradients.numpy())"
   ]
  },
  {
   "cell_type": "markdown",
   "id": "12351d7e-08f8-417b-92af-5720ade3c36c",
   "metadata": {},
   "source": [
    "### Load in the model and the data"
   ]
  },
  {
   "cell_type": "code",
   "execution_count": 76,
   "id": "dea8ea02-23c7-4853-83ea-357cf24901ff",
   "metadata": {},
   "outputs": [
    {
     "name": "stdout",
     "output_type": "stream",
     "text": [
      "Model: \"lstm_model_3\"\n",
      "_________________________________________________________________\n",
      " Layer (type)                Output Shape              Param #   \n",
      "=================================================================\n",
      " lstm_3 (LSTM)               multiple                  960       \n",
      "                                                                 \n",
      " dense_3 (Dense)             multiple                  33        \n",
      "                                                                 \n",
      "=================================================================\n",
      "Total params: 993\n",
      "Trainable params: 993\n",
      "Non-trainable params: 0\n",
      "_________________________________________________________________\n"
     ]
    },
    {
     "data": {
      "text/plain": [
       "((1, 365, 13), (408, 365, 13), (1, 365, 3))"
      ]
     },
     "execution_count": 76,
     "metadata": {},
     "output_type": "execute_result"
    }
   ],
   "source": [
    "#tf.compat.v1.disable_eager_execution()\n",
    "## Define some general arguments for the notebook\n",
    "grad_steps = 500 #Number of steps to take in calculation of IG\n",
    "weights_file = '../test_data/DO_LSTM/train_weights/'\n",
    "prepped_file = '../test_data/DO_LSTM/prepped.npz'\n",
    "\n",
    "prepped = np.load(prepped_file)\n",
    "x_vars = prepped['x_vars']\n",
    "num_vars = len(x_vars)\n",
    "num_tasks = prepped['y_obs_trn'].shape[-1]\n",
    "x_full=prepped['x_trn']\n",
    "x = np.expand_dims(x_full[1,...],axis=0)\n",
    "\n",
    "### Load our model\n",
    "model = LSTMModel(10,num_tasks,.2,.2)\n",
    "\n",
    "model.load_weights(weights_file)\n",
    "## Double check the weights maps correctly\n",
    "y = model.predict(x)\n",
    "model.summary()\n",
    "x.shape, x_full.shape, y.shape"
   ]
  },
  {
   "cell_type": "code",
   "execution_count": 111,
   "id": "642187d8-a5b1-4a95-b3e6-c16a5597671d",
   "metadata": {},
   "outputs": [],
   "source": [
    "def expected_gradients_tf(x, x_set, model, n_samples, temporal_focus=None,task_focus=1):\n",
    "\n",
    "    n_series = x_set.shape[0]\n",
    "    num_vars = x_set.shape[2]\n",
    "    seq_len = x_set.shape[1]\n",
    "    \n",
    "    for k in range(n_samples):\n",
    "        # SAMPLE A SERIES FROM OUR DATA\n",
    "        rand_seq = np.random.choice(n_series) # rand_time may be more accurate\n",
    "        baseline_x = x_set[rand_seq]\n",
    "\n",
    "        # SAMPLE A RANDOM SCALE ALONG THE DIFFERENCE\n",
    "        scale = np.random.uniform()\n",
    "\n",
    "        # SAME IG CALCULATION\n",
    "        x_diff = x - baseline_x\n",
    "        #print(x_diff)\n",
    "        curr_x = baseline_x + scale*x_diff\n",
    "        curr_x = tf.convert_to_tensor(curr_x)\n",
    "        with tf.GradientTape() as gtape:\n",
    "            gtape.watch(curr_x)\n",
    "            if temporal_focus == None:\n",
    "                y = model(curr_x)[:,:,task_focus]\n",
    "            else:\n",
    "                y=model(curr_x)[:,temporal_focus,task_focus]\n",
    "\n",
    "        gradients = gtape.gradient(y, curr_x, tf.ones_like(y))\n",
    "        #print(gradients)\n",
    "        if k == 0:\n",
    "            expected_gradients = x_diff*gradients * 1/n_samples\n",
    "        else:\n",
    "            expected_gradients = expected_gradients + ((x_diff*gradients) * 1/n_samples)\n",
    "        return(expected_gradients.numpy())\n"
   ]
  },
  {
   "cell_type": "code",
   "execution_count": 114,
   "id": "d58f88f1-6f85-49ae-a51c-617ba12c0a3a",
   "metadata": {},
   "outputs": [],
   "source": [
    "EG_vals = expected_gradients_tf(x, x_full, model, n_samples=4, temporal_focus=-1)"
   ]
  },
  {
   "cell_type": "code",
   "execution_count": 115,
   "id": "61af7828-eac3-414c-8eac-cafed928fd7e",
   "metadata": {},
   "outputs": [
    {
     "data": {
      "text/plain": [
       "0.3199537355502095"
      ]
     },
     "execution_count": 115,
     "metadata": {},
     "output_type": "execute_result"
    },
    {
     "data": {
      "image/png": "[encoded data removed]",
      "text/plain": [
       "<Figure size 720x360 with 1 Axes>"
      ]
     },
     "metadata": {},
     "output_type": "display_data"
    }
   ],
   "source": [
    "plt.figure(figsize = (10, 5))\n",
    "for i in range(num_vars):\n",
    "    plt.plot(EG_vals[0, :, i])\n",
    "plt.title('expected gradient values at one segment\\n w.r.t. outputs at all segments but the last time step',\n",
    "          fontsize = 18);\n",
    "\n",
    "np.sum(EG_vals.flatten())"
   ]
  },
  {
   "cell_type": "code",
   "execution_count": null,
   "id": "7eb63536-986b-4aad-9def-0c6eda68d1b0",
   "metadata": {},
   "outputs": [],
   "source": []
  }
 ],
 "metadata": {
  "kernelspec": {
   "display_name": "Python 3 (ipykernel)",
   "language": "python",
   "name": "python3"
  },
  "language_info": {
   "codemirror_mode": {
    "name": "ipython",
    "version": 3
   },
   "file_extension": ".py",
   "mimetype": "text/x-python",
   "name": "python",
   "nbconvert_exporter": "python",
   "pygments_lexer": "ipython3",
   "version": "3.9.10"
  }
 },
 "nbformat": 4,
 "nbformat_minor": 5
}
